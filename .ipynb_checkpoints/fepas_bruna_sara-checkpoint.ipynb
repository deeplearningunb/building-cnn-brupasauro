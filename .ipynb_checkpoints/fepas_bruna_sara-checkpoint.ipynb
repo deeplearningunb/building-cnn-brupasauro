{
 "cells": [
  {
   "cell_type": "code",
   "execution_count": 1,
   "metadata": {},
   "outputs": [
    {
     "name": "stderr",
     "output_type": "stream",
     "text": [
      "Using TensorFlow backend.\n"
     ]
    }
   ],
   "source": [
    "# Convolutional Neural Network\n",
    "\n",
    "# Installing Theano\n",
    "# pip install --upgrade --no-deps git+git://github.com/Theano/Theano.git\n",
    "\n",
    "# Installing Tensorflow\n",
    "# pip install tensorflow\n",
    "\n",
    "# Installing Keras\n",
    "# pip install --upgrade keras\n",
    "\n",
    "# Part 1 - Building the CNN\n",
    "\n",
    "# Importing the Keras libraries and packages\n",
    "from keras.models import Sequential\n",
    "from keras.layers import Conv2D\n",
    "from keras.layers import MaxPooling2D\n",
    "from keras.layers import Flatten\n",
    "from keras.layers import Dense"
   ]
  },
  {
   "cell_type": "code",
   "execution_count": 2,
   "metadata": {},
   "outputs": [],
   "source": [
    "# Initialising the CNN\n",
    "classifier = Sequential()"
   ]
  },
  {
   "cell_type": "code",
   "execution_count": 3,
   "metadata": {},
   "outputs": [
    {
     "name": "stdout",
     "output_type": "stream",
     "text": [
      "WARNING:tensorflow:From /home/fepas/anaconda3/lib/python3.7/site-packages/tensorflow/python/framework/op_def_library.py:263: colocate_with (from tensorflow.python.framework.ops) is deprecated and will be removed in a future version.\n",
      "Instructions for updating:\n",
      "Colocations handled automatically by placer.\n"
     ]
    }
   ],
   "source": [
    "# Step 1 - Convolution\n",
    "classifier.add(Conv2D(32, (3, 3), input_shape = (64, 64, 3), activation = 'relu'))"
   ]
  },
  {
   "cell_type": "code",
   "execution_count": 4,
   "metadata": {},
   "outputs": [],
   "source": [
    "# Step 2 - Pooling\n",
    "classifier.add(MaxPooling2D(pool_size = (2, 2)))"
   ]
  },
  {
   "cell_type": "code",
   "execution_count": 5,
   "metadata": {},
   "outputs": [],
   "source": [
    "# Adding a second convolutional layer\n",
    "classifier.add(Conv2D(32, (3, 3), activation = 'relu'))\n",
    "classifier.add(MaxPooling2D(pool_size = (2, 2)))"
   ]
  },
  {
   "cell_type": "code",
   "execution_count": 6,
   "metadata": {},
   "outputs": [],
   "source": [
    "# Step 3 - Flattening\n",
    "classifier.add(Flatten())"
   ]
  },
  {
   "cell_type": "code",
   "execution_count": 7,
   "metadata": {},
   "outputs": [],
   "source": [
    "# Step 4 - Full connection\n",
    "classifier.add(Dense(units = 128, activation = 'relu'))\n",
    "classifier.add(Dense(units = 1, activation = 'sigmoid'))"
   ]
  },
  {
   "cell_type": "code",
   "execution_count": 8,
   "metadata": {},
   "outputs": [],
   "source": [
    "# Compiling the CNN\n",
    "classifier.compile(optimizer = 'adam', loss = 'binary_crossentropy', metrics = ['accuracy'])"
   ]
  },
  {
   "cell_type": "code",
   "execution_count": 9,
   "metadata": {},
   "outputs": [],
   "source": [
    "# Part 2 - Fitting the CNN to the images\n",
    "\n",
    "from keras.preprocessing.image import ImageDataGenerator"
   ]
  },
  {
   "cell_type": "code",
   "execution_count": 10,
   "metadata": {},
   "outputs": [],
   "source": [
    "train_datagen = ImageDataGenerator(rescale = 1./255,\n",
    "                                   shear_range = 0.2,\n",
    "                                   zoom_range = 0.2,\n",
    "                                   horizontal_flip = True)"
   ]
  },
  {
   "cell_type": "code",
   "execution_count": 11,
   "metadata": {},
   "outputs": [],
   "source": [
    "test_datagen = ImageDataGenerator(rescale = 1./255)"
   ]
  },
  {
   "cell_type": "code",
   "execution_count": 12,
   "metadata": {},
   "outputs": [
    {
     "name": "stdout",
     "output_type": "stream",
     "text": [
      "Found 781 images belonging to 2 classes.\n"
     ]
    }
   ],
   "source": [
    "training_set = train_datagen.flow_from_directory('dataset/training_set',\n",
    "                                                 target_size = (64, 64),\n",
    "                                                 batch_size = 32,\n",
    "                                                 class_mode = 'binary')"
   ]
  },
  {
   "cell_type": "code",
   "execution_count": 13,
   "metadata": {},
   "outputs": [
    {
     "name": "stdout",
     "output_type": "stream",
     "text": [
      "Found 149 images belonging to 2 classes.\n"
     ]
    }
   ],
   "source": [
    "test_set = test_datagen.flow_from_directory('dataset/test_set',\n",
    "                                            target_size = (64, 64),\n",
    "                                            batch_size = 32,\n",
    "                                            class_mode = 'binary')"
   ]
  },
  {
   "cell_type": "code",
   "execution_count": 14,
   "metadata": {},
   "outputs": [
    {
     "name": "stdout",
     "output_type": "stream",
     "text": [
      "WARNING:tensorflow:From /home/fepas/anaconda3/lib/python3.7/site-packages/tensorflow/python/ops/math_ops.py:3066: to_int32 (from tensorflow.python.ops.math_ops) is deprecated and will be removed in a future version.\n",
      "Instructions for updating:\n",
      "Use tf.cast instead.\n",
      "Epoch 1/25\n"
     ]
    },
    {
     "name": "stderr",
     "output_type": "stream",
     "text": [
      "/home/fepas/anaconda3/lib/python3.7/site-packages/PIL/Image.py:952: UserWarning: Palette images with Transparency   expressed in bytes should be converted to RGBA images\n",
      "  ' expressed in bytes should be converted ' +\n"
     ]
    },
    {
     "name": "stdout",
     "output_type": "stream",
     "text": [
      "100/100 [==============================] - 87s 873ms/step - loss: 0.5458 - acc: 0.7206 - val_loss: 0.4712 - val_acc: 0.7584\n",
      "Epoch 2/25\n",
      "100/100 [==============================] - 86s 861ms/step - loss: 0.3921 - acc: 0.8317 - val_loss: 0.2809 - val_acc: 0.8792\n",
      "Epoch 3/25\n",
      "100/100 [==============================] - 89s 890ms/step - loss: 0.3073 - acc: 0.8654 - val_loss: 0.3019 - val_acc: 0.8389\n",
      "Epoch 4/25\n",
      "100/100 [==============================] - 90s 899ms/step - loss: 0.2674 - acc: 0.8804 - val_loss: 0.4174 - val_acc: 0.8322\n",
      "Epoch 5/25\n",
      "100/100 [==============================] - 85s 846ms/step - loss: 0.2169 - acc: 0.9133 - val_loss: 0.4186 - val_acc: 0.8725\n",
      "Epoch 6/25\n",
      "100/100 [==============================] - 90s 903ms/step - loss: 0.1937 - acc: 0.9247 - val_loss: 0.3365 - val_acc: 0.8859\n",
      "Epoch 7/25\n",
      "100/100 [==============================] - 90s 900ms/step - loss: 0.1495 - acc: 0.9450 - val_loss: 0.3798 - val_acc: 0.8725\n",
      "Epoch 8/25\n",
      "100/100 [==============================] - 89s 890ms/step - loss: 0.1403 - acc: 0.9481 - val_loss: 0.4166 - val_acc: 0.8658\n",
      "Epoch 9/25\n",
      "100/100 [==============================] - 90s 896ms/step - loss: 0.1098 - acc: 0.9589 - val_loss: 0.5882 - val_acc: 0.8523\n",
      "Epoch 10/25\n",
      "100/100 [==============================] - 91s 911ms/step - loss: 0.1023 - acc: 0.9600 - val_loss: 0.4676 - val_acc: 0.8658\n",
      "Epoch 11/25\n",
      "100/100 [==============================] - 89s 887ms/step - loss: 0.0797 - acc: 0.9711 - val_loss: 0.6765 - val_acc: 0.8255\n",
      "Epoch 12/25\n",
      "100/100 [==============================] - 88s 882ms/step - loss: 0.0887 - acc: 0.9667 - val_loss: 0.4661 - val_acc: 0.8523\n",
      "Epoch 13/25\n",
      "100/100 [==============================] - 90s 900ms/step - loss: 0.0521 - acc: 0.9844 - val_loss: 0.4739 - val_acc: 0.8859\n",
      "Epoch 14/25\n",
      "100/100 [==============================] - 91s 908ms/step - loss: 0.0425 - acc: 0.9881 - val_loss: 0.5544 - val_acc: 0.8658\n",
      "Epoch 15/25\n",
      "100/100 [==============================] - 92s 922ms/step - loss: 0.0275 - acc: 0.9934 - val_loss: 0.4007 - val_acc: 0.8859\n",
      "Epoch 16/25\n",
      "100/100 [==============================] - 93s 934ms/step - loss: 0.0452 - acc: 0.9862 - val_loss: 0.5182 - val_acc: 0.8523\n",
      "Epoch 17/25\n",
      "100/100 [==============================] - 87s 866ms/step - loss: 0.0363 - acc: 0.9887 - val_loss: 0.4755 - val_acc: 0.8926\n",
      "Epoch 18/25\n",
      "100/100 [==============================] - 91s 911ms/step - loss: 0.0198 - acc: 0.9942 - val_loss: 0.6217 - val_acc: 0.8591\n",
      "Epoch 19/25\n",
      "100/100 [==============================] - 97s 973ms/step - loss: 0.0292 - acc: 0.9899 - val_loss: 0.6433 - val_acc: 0.8859\n",
      "Epoch 20/25\n",
      "100/100 [==============================] - 95s 955ms/step - loss: 0.0314 - acc: 0.9897 - val_loss: 0.5070 - val_acc: 0.8725\n",
      "Epoch 21/25\n",
      "100/100 [==============================] - 89s 886ms/step - loss: 0.0160 - acc: 0.9959 - val_loss: 0.4737 - val_acc: 0.8792\n",
      "Epoch 22/25\n",
      "100/100 [==============================] - 89s 888ms/step - loss: 0.0304 - acc: 0.9874 - val_loss: 0.4965 - val_acc: 0.8591\n",
      "Epoch 23/25\n",
      "100/100 [==============================] - 87s 872ms/step - loss: 0.0163 - acc: 0.9949 - val_loss: 0.5445 - val_acc: 0.8591\n",
      "Epoch 24/25\n",
      "100/100 [==============================] - 88s 882ms/step - loss: 0.0108 - acc: 0.9961 - val_loss: 0.5880 - val_acc: 0.8859\n",
      "Epoch 25/25\n",
      "100/100 [==============================] - 86s 864ms/step - loss: 0.0129 - acc: 0.9966 - val_loss: 0.6594 - val_acc: 0.8658\n"
     ]
    },
    {
     "data": {
      "text/plain": [
       "<keras.callbacks.History at 0x7f47f0fb1320>"
      ]
     },
     "execution_count": 14,
     "metadata": {},
     "output_type": "execute_result"
    }
   ],
   "source": [
    "classifier.fit_generator(training_set,\n",
    "                         steps_per_epoch = 100,\n",
    "                         epochs = 25,\n",
    "                         validation_data = test_set,\n",
    "                         validation_steps = 100)"
   ]
  },
  {
   "cell_type": "code",
   "execution_count": 15,
   "metadata": {},
   "outputs": [
    {
     "ename": "AttributeError",
     "evalue": "'Sequential' object has no attribute 'best_score_'",
     "output_type": "error",
     "traceback": [
      "\u001b[0;31m---------------------------------------------------------------------------\u001b[0m",
      "\u001b[0;31mAttributeError\u001b[0m                            Traceback (most recent call last)",
      "\u001b[0;32m<ipython-input-15-b172037d7372>\u001b[0m in \u001b[0;36m<module>\u001b[0;34m\u001b[0m\n\u001b[0;32m----> 1\u001b[0;31m \u001b[0mclassifier\u001b[0m\u001b[0;34m.\u001b[0m\u001b[0mbest_score_\u001b[0m\u001b[0;34m\u001b[0m\u001b[0;34m\u001b[0m\u001b[0m\n\u001b[0m",
      "\u001b[0;31mAttributeError\u001b[0m: 'Sequential' object has no attribute 'best_score_'"
     ]
    }
   ],
   "source": []
  },
  {
   "cell_type": "code",
   "execution_count": null,
   "metadata": {},
   "outputs": [],
   "source": []
  }
 ],
 "metadata": {
  "kernelspec": {
   "display_name": "Python 3",
   "language": "python",
   "name": "python3"
  },
  "language_info": {
   "codemirror_mode": {
    "name": "ipython",
    "version": 3
   },
   "file_extension": ".py",
   "mimetype": "text/x-python",
   "name": "python",
   "nbconvert_exporter": "python",
   "pygments_lexer": "ipython3",
   "version": "3.7.1"
  }
 },
 "nbformat": 4,
 "nbformat_minor": 2
}
